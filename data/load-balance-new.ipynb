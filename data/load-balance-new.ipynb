{
 "cells": [
  {
   "cell_type": "code",
   "execution_count": 2,
   "id": "living-twins",
   "metadata": {},
   "outputs": [],
   "source": [
    "import matplotlib.pyplot as plt\n",
    "import numpy as np"
   ]
  },
  {
   "cell_type": "code",
   "execution_count": 4,
   "id": "incident-pioneer",
   "metadata": {},
   "outputs": [
    {
     "name": "stdout",
     "output_type": "stream",
     "text": [
      "Load Distribution for the default schedule\n",
      "---------------------------------------------\n",
      "Average loads:  133968.8625\n",
      "Std loads:  19189.319645146195\n",
      "Max Load:  192395.0\n",
      "Min Load:  71947.0\n"
     ]
    },
    {
     "data": {
      "image/png": "[encoded data removed]",
      "text/plain": [
       "<Figure size 432x288 with 1 Axes>"
      ]
     },
     "metadata": {
      "needs_background": "light"
     },
     "output_type": "display_data"
    }
   ],
   "source": [
    "#This is the new load balancing results. Data acquired on feb 08 from Arif Khan. This is what Ajay is doing for scheduling.\n",
    "\n",
    "\n",
    "n_machines = 800\n",
    "sched_ajay = \"GC_BP/gc_bp_\"+str(n_machines)+\".csv\"\n",
    "data_sched_ajay = np.genfromtxt(sched_ajay,dtype=int,delimiter=',',skip_header=1)\n",
    "\n",
    "\n",
    "\n",
    "loads_ajay = np.zeros(n_machines)\n",
    "for i in range(data_sched_ajay.shape[0]):\n",
    "    loads_ajay[data_sched_ajay[i,0]] = loads_ajay[data_sched_ajay[i,0]] + data_sched_ajay[i,3]\n",
    "    \n",
    "print(\"Load Distribution for the default schedule\")\n",
    "print(\"---------------------------------------------\")\n",
    "print(\"Average loads: \", np.mean(loads_ajay))\n",
    "print(\"Std loads: \",np.std(loads_ajay))\n",
    "print(\"Max Load: \",np.max(loads_ajay))\n",
    "print(\"Min Load: \",np.min(loads_ajay))\n",
    "\n",
    "x_data = np.arange(n_machines)\n",
    "plt.bar(x_data,loads_ajay,width = 1)\n",
    "plt.xlabel(\"Machines\")\n",
    "plt.ylabel(\"Loads\")\n",
    "plt.show()\n",
    "\n"
   ]
  },
  {
   "cell_type": "code",
   "execution_count": null,
   "id": "nuclear-decrease",
   "metadata": {},
   "outputs": [],
   "source": []
  },
  {
   "cell_type": "code",
   "execution_count": 5,
   "id": "social-field",
   "metadata": {},
   "outputs": [
    {
     "name": "stdout",
     "output_type": "stream",
     "text": [
      "Load Distribution for the submod schedule\n",
      "---------------------------------------------\n",
      "Average loads:  5466245.793\n",
      "Std loads:  6.434916549575449\n",
      "Max Load:  5466258.0\n",
      "Min Load:  5466232.0\n"
     ]
    },
    {
     "data": {
      "image/png": "[encoded data removed]",
      "text/plain": [
       "<Figure size 432x288 with 1 Axes>"
      ]
     },
     "metadata": {
      "needs_background": "light"
     },
     "output_type": "display_data"
    }
   ],
   "source": [
    "n_machines = 1000\n",
    "#sched_submod = \"gc_bp_\"+str(n_machines)+\".match\"\n",
    "sched_submod = \"ubi_sto3g_\"+str(n_machines)+\"_simple.match\"\n",
    "#sched_submod = \"ubi_6-31g_\"+str(n_machines)+\".match\"\n",
    "data_sched_submod = np.genfromtxt(sched_submod,dtype=int,delimiter=',',skip_header=3)\n",
    "\n",
    "loads_submod = np.zeros(n_machines)\n",
    "for i in range(data_sched_submod.shape[0]):\n",
    "    if(data_sched_submod[i,1]>=0):\n",
    "        loads_submod[data_sched_submod[i,1]] = loads_submod[data_sched_submod[i,1]] + data_sched_submod[i,2]\n",
    "\n",
    "\n",
    "    \n",
    "print(\"Load Distribution for the submod schedule\")\n",
    "print(\"---------------------------------------------\")\n",
    "print(\"Average loads: \", np.mean(loads_submod))\n",
    "print(\"Std loads: \",np.std(loads_submod))\n",
    "print(\"Max Load: \",np.max(loads_submod))\n",
    "print(\"Min Load: \",np.min(loads_submod))\n",
    "\n",
    "x_data = np.arange(n_machines)\n",
    "plt.bar(x_data,loads_submod,width = 1)\n",
    "plt.xlabel(\"Machines\")\n",
    "plt.ylabel(\"Loads\")\n",
    "plt.show()\n",
    "\n",
    "write = False\n",
    "if write==True:\n",
    "    #f = open(\"ubi_sto3g_submod_\"+str(n_machines)+\".sched\",'w')\n",
    "    f = open(\"ubi_6-31g_submod_\"+str(n_machines)+\".sched\",'w')\n",
    "    f.write(\"#s1,s2,ntask,rank\\n\")\n",
    "    #writing the schedule to 4 tuples format\n",
    "    for i in range(data_sched_submod.shape[0]):\n",
    "        s1 = data_sched_ajay[data_sched_submod[i,0],1]\n",
    "        s2 = data_sched_ajay[data_sched_submod[i,0],2]\n",
    "        f.write(str(s1)+\",\"+str(s2)+\",\"+str(data_sched_submod[i,2])+\",\"+str(data_sched_submod[i,1])+\"\\n\")\n",
    "    f.close()\n",
    "    \n",
    "\n"
   ]
  },
  {
   "cell_type": "code",
   "execution_count": 1,
   "id": "stuffed-order",
   "metadata": {},
   "outputs": [
    {
     "name": "stdout",
     "output_type": "stream",
     "text": [
      "429894.0\n",
      "1.0\n"
     ]
    }
   ],
   "source": [
    "#Here I will compute the mtx file from the input file. Each line of the input file contains(rank,s1,s2,ntasks). Here \n",
    "#(s1,s2) is a node in the graph. This is a bpt graph. Where on the left side would be machine id and the right side is\n",
    "#id corresponding to (s1,s2) pair.\n",
    "\n",
    "import matplotlib.pyplot as plt\n",
    "import numpy as np\n",
    "\n",
    "n_machine = 1000\n",
    "#data_file = \"GC_BP/gc_bp_\"+str(n_machines)+\".csv\"\n",
    "data_file = \"ubi_sto3g/ubi_sto3g_4k_taskinfo.csv\"\n",
    "data = np.genfromtxt(data_file,dtype=int,delimiter=',',skip_header=1)\n",
    "n_row = data.shape[0]\n",
    "\n",
    "graph = np.zeros((n_row*n_machine,3))\n",
    "c = 0\n",
    "f = open(\"ubi_sto3g_\"+str(n_machine)+\".mtx\",'w')\n",
    "f.write(\"%%MatrixMarket matrix coordinate real symmetric\\n%\\n\")\n",
    "f.write(str(n_row+n_machine)+\" \"+str(n_row+n_machine)+\" \"+str(n_row*n_machine)+\"\\n\")\n",
    "\n",
    "for i in range(n_row):\n",
    "    for j in range(n_machine):\n",
    "        graph[c,:] = [n_row+j+1, i+1, data[i,3]]\n",
    "        f.write(str(n_row+j+1)+\" \"+str(i+1)+\" \"+str(data[i,3])+\"\\n\")\n",
    "        c = c + 1\n",
    "print(min(graph[:,0]))\n",
    "print(min(graph[:,1]))"
   ]
  }
 ],
 "metadata": {
  "kernelspec": {
   "display_name": "Python 3",
   "language": "python",
   "name": "python3"
  },
  "language_info": {
   "codemirror_mode": {
    "name": "ipython",
    "version": 3
   },
   "file_extension": ".py",
   "mimetype": "text/x-python",
   "name": "python",
   "nbconvert_exporter": "python",
   "pygments_lexer": "ipython3",
   "version": "3.9.5"
  }
 },
 "nbformat": 4,
 "nbformat_minor": 5
}
