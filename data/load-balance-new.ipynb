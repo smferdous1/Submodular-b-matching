{
 "cells": [
  {
   "cell_type": "code",
   "execution_count": 7,
   "id": "incident-pioneer",
   "metadata": {},
   "outputs": [
    {
     "name": "stdout",
     "output_type": "stream",
     "text": [
      "[[  109     0     0     1]\n",
      " [   67     1     0     2]\n",
      " [   69     1     1     3]\n",
      " ...\n",
      " [   18   181   151 14800]\n",
      " [   33   181   173 14841]\n",
      " [    6   181   181 14849]]\n",
      "Load Distribution for the default schedule\n",
      "---------------------------------------------\n",
      "Average loads:  974319.0\n",
      "Std loads:  61759.463825687184\n",
      "Max Load:  1078748.0\n",
      "Min Load:  822380.0\n"
     ]
    },
    {
     "data": {
      "image/png": "[encoded data removed]",
      "text/plain": [
       "<Figure size 432x288 with 1 Axes>"
      ]
     },
     "metadata": {
      "needs_background": "light"
     },
     "output_type": "display_data"
    }
   ],
   "source": [
    "#This is the new load balancing results. Data acquired on feb 08 from Arif Khan. This is what Ajay is doing for scheduling.\n",
    "import matplotlib.pyplot as plt\n",
    "import numpy as np\n",
    "\n",
    "n_machines = 110\n",
    "sched_ajay = \"GC_BP/gc_bp_\"+str(n_machines)+\".csv\"\n",
    "data_sched_ajay = np.genfromtxt(sched_ajay,dtype=int,delimiter=\"  \",skip_header=1)\n",
    "\n",
    "print(data_sched_ajay)\n",
    "\n",
    "loads_ajay = np.zeros(n_machines)\n",
    "for i in range(data_sched_ajay.shape[0]):\n",
    "    loads_ajay[data_sched_ajay[i,0]] = loads_ajay[data_sched_ajay[i,0]] + data_sched_ajay[i,3]\n",
    "    \n",
    "print(\"Load Distribution for the default schedule\")\n",
    "print(\"---------------------------------------------\")\n",
    "print(\"Average loads: \", np.mean(loads_ajay))\n",
    "print(\"Std loads: \",np.std(loads_ajay))\n",
    "print(\"Max Load: \",np.max(loads_ajay))\n",
    "print(\"Min Load: \",np.min(loads_ajay))\n",
    "\n",
    "x_data = np.arange(n_machines)\n",
    "plt.bar(x_data,loads_ajay,width = 1)\n",
    "plt.xlabel(\"Machines\")\n",
    "plt.ylabel(\"Loads\")\n",
    "plt.show()\n",
    "\n"
   ]
  },
  {
   "cell_type": "code",
   "execution_count": 12,
   "id": "social-field",
   "metadata": {},
   "outputs": [
    {
     "ename": "OSError",
     "evalue": "gc_bp_110.match not found.",
     "output_type": "error",
     "traceback": [
      "\u001b[0;31m---------------------------------------------------------------------------\u001b[0m",
      "\u001b[0;31mOSError\u001b[0m                                   Traceback (most recent call last)",
      "\u001b[0;32m<ipython-input-12-5fecce7ede62>\u001b[0m in \u001b[0;36m<module>\u001b[0;34m\u001b[0m\n\u001b[1;32m      2\u001b[0m \u001b[0msched_submod\u001b[0m \u001b[0;34m=\u001b[0m \u001b[0;34m\"gc_bp_\"\u001b[0m\u001b[0;34m+\u001b[0m\u001b[0mstr\u001b[0m\u001b[0;34m(\u001b[0m\u001b[0mn_machines\u001b[0m\u001b[0;34m)\u001b[0m\u001b[0;34m+\u001b[0m\u001b[0;34m\".match\"\u001b[0m\u001b[0;34m\u001b[0m\u001b[0;34m\u001b[0m\u001b[0m\n\u001b[1;32m      3\u001b[0m \u001b[0;31m#sched_submod = \"simple-bal/guanine_cytosine_bp.6-31++g*.taskmap.txt\"\u001b[0m\u001b[0;34m\u001b[0m\u001b[0;34m\u001b[0m\u001b[0;34m\u001b[0m\u001b[0m\n\u001b[0;32m----> 4\u001b[0;31m \u001b[0mdata_sched_submod\u001b[0m \u001b[0;34m=\u001b[0m \u001b[0mnp\u001b[0m\u001b[0;34m.\u001b[0m\u001b[0mgenfromtxt\u001b[0m\u001b[0;34m(\u001b[0m\u001b[0msched_submod\u001b[0m\u001b[0;34m,\u001b[0m\u001b[0mdtype\u001b[0m\u001b[0;34m=\u001b[0m\u001b[0mint\u001b[0m\u001b[0;34m,\u001b[0m\u001b[0mdelimiter\u001b[0m\u001b[0;34m=\u001b[0m\u001b[0;34m\",\"\u001b[0m\u001b[0;34m,\u001b[0m\u001b[0mskip_header\u001b[0m\u001b[0;34m=\u001b[0m\u001b[0;36m3\u001b[0m\u001b[0;34m)\u001b[0m\u001b[0;34m\u001b[0m\u001b[0;34m\u001b[0m\u001b[0m\n\u001b[0m\u001b[1;32m      5\u001b[0m \u001b[0;34m\u001b[0m\u001b[0m\n\u001b[1;32m      6\u001b[0m \u001b[0mprint\u001b[0m\u001b[0;34m(\u001b[0m\u001b[0mdata_sched_submod\u001b[0m\u001b[0;34m)\u001b[0m\u001b[0;34m\u001b[0m\u001b[0;34m\u001b[0m\u001b[0m\n",
      "\u001b[0;32m/usr/common/software/python/3.7-anaconda-2019.10/lib/python3.7/site-packages/numpy/lib/npyio.py\u001b[0m in \u001b[0;36mgenfromtxt\u001b[0;34m(fname, dtype, comments, delimiter, skip_header, skip_footer, converters, missing_values, filling_values, usecols, names, excludelist, deletechars, replace_space, autostrip, case_sensitive, defaultfmt, unpack, usemask, loose, invalid_raise, max_rows, encoding)\u001b[0m\n\u001b[1;32m   1757\u001b[0m             \u001b[0mfname\u001b[0m \u001b[0;34m=\u001b[0m \u001b[0mos_fspath\u001b[0m\u001b[0;34m(\u001b[0m\u001b[0mfname\u001b[0m\u001b[0;34m)\u001b[0m\u001b[0;34m\u001b[0m\u001b[0;34m\u001b[0m\u001b[0m\n\u001b[1;32m   1758\u001b[0m         \u001b[0;32mif\u001b[0m \u001b[0misinstance\u001b[0m\u001b[0;34m(\u001b[0m\u001b[0mfname\u001b[0m\u001b[0;34m,\u001b[0m \u001b[0mbasestring\u001b[0m\u001b[0;34m)\u001b[0m\u001b[0;34m:\u001b[0m\u001b[0;34m\u001b[0m\u001b[0;34m\u001b[0m\u001b[0m\n\u001b[0;32m-> 1759\u001b[0;31m             \u001b[0mfid\u001b[0m \u001b[0;34m=\u001b[0m \u001b[0mnp\u001b[0m\u001b[0;34m.\u001b[0m\u001b[0mlib\u001b[0m\u001b[0;34m.\u001b[0m\u001b[0m_datasource\u001b[0m\u001b[0;34m.\u001b[0m\u001b[0mopen\u001b[0m\u001b[0;34m(\u001b[0m\u001b[0mfname\u001b[0m\u001b[0;34m,\u001b[0m \u001b[0;34m'rt'\u001b[0m\u001b[0;34m,\u001b[0m \u001b[0mencoding\u001b[0m\u001b[0;34m=\u001b[0m\u001b[0mencoding\u001b[0m\u001b[0;34m)\u001b[0m\u001b[0;34m\u001b[0m\u001b[0;34m\u001b[0m\u001b[0m\n\u001b[0m\u001b[1;32m   1760\u001b[0m             \u001b[0mfid_ctx\u001b[0m \u001b[0;34m=\u001b[0m \u001b[0mcontextlib\u001b[0m\u001b[0;34m.\u001b[0m\u001b[0mclosing\u001b[0m\u001b[0;34m(\u001b[0m\u001b[0mfid\u001b[0m\u001b[0;34m)\u001b[0m\u001b[0;34m\u001b[0m\u001b[0;34m\u001b[0m\u001b[0m\n\u001b[1;32m   1761\u001b[0m         \u001b[0;32melse\u001b[0m\u001b[0;34m:\u001b[0m\u001b[0;34m\u001b[0m\u001b[0;34m\u001b[0m\u001b[0m\n",
      "\u001b[0;32m/usr/common/software/python/3.7-anaconda-2019.10/lib/python3.7/site-packages/numpy/lib/_datasource.py\u001b[0m in \u001b[0;36mopen\u001b[0;34m(path, mode, destpath, encoding, newline)\u001b[0m\n\u001b[1;32m    267\u001b[0m \u001b[0;34m\u001b[0m\u001b[0m\n\u001b[1;32m    268\u001b[0m     \u001b[0mds\u001b[0m \u001b[0;34m=\u001b[0m \u001b[0mDataSource\u001b[0m\u001b[0;34m(\u001b[0m\u001b[0mdestpath\u001b[0m\u001b[0;34m)\u001b[0m\u001b[0;34m\u001b[0m\u001b[0;34m\u001b[0m\u001b[0m\n\u001b[0;32m--> 269\u001b[0;31m     \u001b[0;32mreturn\u001b[0m \u001b[0mds\u001b[0m\u001b[0;34m.\u001b[0m\u001b[0mopen\u001b[0m\u001b[0;34m(\u001b[0m\u001b[0mpath\u001b[0m\u001b[0;34m,\u001b[0m \u001b[0mmode\u001b[0m\u001b[0;34m,\u001b[0m \u001b[0mencoding\u001b[0m\u001b[0;34m=\u001b[0m\u001b[0mencoding\u001b[0m\u001b[0;34m,\u001b[0m \u001b[0mnewline\u001b[0m\u001b[0;34m=\u001b[0m\u001b[0mnewline\u001b[0m\u001b[0;34m)\u001b[0m\u001b[0;34m\u001b[0m\u001b[0;34m\u001b[0m\u001b[0m\n\u001b[0m\u001b[1;32m    270\u001b[0m \u001b[0;34m\u001b[0m\u001b[0m\n\u001b[1;32m    271\u001b[0m \u001b[0;34m\u001b[0m\u001b[0m\n",
      "\u001b[0;32m/usr/common/software/python/3.7-anaconda-2019.10/lib/python3.7/site-packages/numpy/lib/_datasource.py\u001b[0m in \u001b[0;36mopen\u001b[0;34m(self, path, mode, encoding, newline)\u001b[0m\n\u001b[1;32m    621\u001b[0m                                       encoding=encoding, newline=newline)\n\u001b[1;32m    622\u001b[0m         \u001b[0;32melse\u001b[0m\u001b[0;34m:\u001b[0m\u001b[0;34m\u001b[0m\u001b[0;34m\u001b[0m\u001b[0m\n\u001b[0;32m--> 623\u001b[0;31m             \u001b[0;32mraise\u001b[0m \u001b[0mIOError\u001b[0m\u001b[0;34m(\u001b[0m\u001b[0;34m\"%s not found.\"\u001b[0m \u001b[0;34m%\u001b[0m \u001b[0mpath\u001b[0m\u001b[0;34m)\u001b[0m\u001b[0;34m\u001b[0m\u001b[0;34m\u001b[0m\u001b[0m\n\u001b[0m\u001b[1;32m    624\u001b[0m \u001b[0;34m\u001b[0m\u001b[0m\n\u001b[1;32m    625\u001b[0m \u001b[0;34m\u001b[0m\u001b[0m\n",
      "\u001b[0;31mOSError\u001b[0m: gc_bp_110.match not found."
     ]
    }
   ],
   "source": [
    "n_machines = 110\n",
    "sched_submod = \"gc_bp_\"+str(n_machines)+\".match\"\n",
    "#sched_submod = \"simple-bal/guanine_cytosine_bp.6-31++g*.taskmap.txt\"\n",
    "data_sched_submod = np.genfromtxt(sched_submod,dtype=int,delimiter=\",\",skip_header=3)\n",
    "\n",
    "print(data_sched_submod)\n",
    "loads_submod = np.zeros(n_machines)\n",
    "for i in range(data_sched_submod.shape[0]):\n",
    "    loads_submod[data_sched_submod[i,3]] = loads_submod[data_sched_submod[i,3]] + data_sched_submod[i,4]\n",
    "\n",
    "\n",
    "    \n",
    "print(\"Load Distribution for the submod schedule\")\n",
    "print(\"---------------------------------------------\")\n",
    "print(\"Average loads: \", np.mean(loads_submod))\n",
    "print(\"Std loads: \",np.std(loads_submod))\n",
    "print(\"Max Load: \",np.max(loads_submod))\n",
    "print(\"Min Load: \",np.min(loads_submod))\n",
    "\n",
    "x_data = np.arange(n_machines)\n",
    "plt.bar(x_data,loads_submod,width = 1)\n",
    "plt.xlabel(\"Machines\")\n",
    "plt.ylabel(\"Loads\")\n",
    "plt.show()\n",
    "\n",
    "f = open(\"gc_bp_submod_\"+str(n_machines)+\".sched\",'w')\n",
    "f.write(\"#s1,s2,ntask,rank\\n\")\n",
    "#writing the schedule to 4 tuples format\n",
    "for i in range(data_sched_submod.shape[0]):\n",
    "    s1 = data_sched_ajay[data_sched_submod[i,0],1]\n",
    "    s2 = data_sched_ajay[data_sched_submod[i,0],2]\n",
    "    f.write(str(s1)+\",\"+str(s2)+\",\"+str(data_sched_submod[i,2])+\",\"+str(data_sched_submod[i,1])+\"\\n\")\n",
    "f.close()\n",
    "    \n",
    "\n"
   ]
  },
  {
   "cell_type": "code",
   "execution_count": 1,
   "id": "stuffed-order",
   "metadata": {},
   "outputs": [
    {
     "name": "stdout",
     "output_type": "stream",
     "text": [
      "429894.0\n",
      "1.0\n"
     ]
    }
   ],
   "source": [
    "#Here I will compute the mtx file from the input file. Each line of the input file contains(rank,s1,s2,ntasks). Here \n",
    "#(s1,s2) is a node in the graph. This is a bpt graph. Where on the left side would be machine id and the right side is\n",
    "#id corresponding to (s1,s2) pair.\n",
    "\n",
    "import matplotlib.pyplot as plt\n",
    "import numpy as np\n",
    "\n",
    "n_machine = 1000\n",
    "#data_file = \"GC_BP/gc_bp_\"+str(n_machines)+\".csv\"\n",
    "data_file = \"ubi_sto3g/ubi_sto3g_4k_taskinfo.csv\"\n",
    "data = np.genfromtxt(data_file,dtype=int,delimiter=',',skip_header=1)\n",
    "n_row = data.shape[0]\n",
    "\n",
    "graph = np.zeros((n_row*n_machine,3))\n",
    "c = 0\n",
    "f = open(\"ubi_sto3g_\"+str(n_machine)+\".mtx\",'w')\n",
    "f.write(\"%%MatrixMarket matrix coordinate real symmetric\\n%\\n\")\n",
    "f.write(str(n_row+n_machine)+\" \"+str(n_row+n_machine)+\" \"+str(n_row*n_machine)+\"\\n\")\n",
    "\n",
    "for i in range(n_row):\n",
    "    for j in range(n_machine):\n",
    "        graph[c,:] = [n_row+j+1, i+1, data[i,3]]\n",
    "        f.write(str(n_row+j+1)+\" \"+str(i+1)+\" \"+str(data[i,3])+\"\\n\")\n",
    "        c = c + 1\n",
    "print(min(graph[:,0]))\n",
    "print(min(graph[:,1]))"
   ]
  }
 ],
 "metadata": {
  "kernelspec": {
   "display_name": "Python 3",
   "language": "python",
   "name": "python3"
  },
  "language_info": {
   "codemirror_mode": {
    "name": "ipython",
    "version": 3
   },
   "file_extension": ".py",
   "mimetype": "text/x-python",
   "name": "python",
   "nbconvert_exporter": "python",
   "pygments_lexer": "ipython3",
   "version": "3.7.4"
  }
 },
 "nbformat": 4,
 "nbformat_minor": 5
}
