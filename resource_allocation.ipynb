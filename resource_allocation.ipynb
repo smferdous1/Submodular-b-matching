{
 "cells": [
  {
   "cell_type": "code",
   "execution_count": 5,
   "metadata": {},
   "outputs": [
    {
     "name": "stdout",
     "output_type": "stream",
     "text": [
      "Collecting pip\n",
      "  Using cached https://files.pythonhosted.org/packages/5a/4a/39400ff9b36e719bdf8f31c99fe1fa7842a42fa77432e584f707a5080063/pip-20.2.2-py2.py3-none-any.whl\n",
      "Installing collected packages: pip\n",
      "Successfully installed pip-20.2.2\n"
     ]
    }
   ],
   "source": [
    "!pip install --user --upgrade pip"
   ]
  },
  {
   "cell_type": "code",
   "execution_count": 43,
   "metadata": {},
   "outputs": [
    {
     "name": "stdout",
     "output_type": "stream",
     "text": [
      "(11, 5)\n",
      "Tabulate Table:\n",
      "  2827733.59921    190383.46656     6321163.02856    4462208.55179    5134584.33334\n",
      "---------------  --------------  ----------------  ---------------  ---------------\n",
      "    7.36956e+06     3.69477e+06       8.5895e+06       3.93181e+06      9.46199e+06\n",
      "    2.39983e+07     2.82773e+06  190386                6.32116e+06      4.46221e+06\n",
      "    5.13458e+06     7.36957e+06       3.69477e+06      8.5895e+06       3.9318e+06\n",
      "    9.46199e+06     2.39983e+07      23.1556          49.4898          57.6659\n",
      "   30.7925         95.8807          100.102          296.301          686.667\n",
      "  436.253         768.583          1566.09             6.6957          22.2994\n",
      "   16.8225          8.6651           30.8674          26.3028         106.067\n",
      "  157.701         131.93            265.914          382.394            3.45828\n",
      "    2.21933         3.4279            3.55362          3.10621          3.80576\n",
      "    2.79353         4.35423           3.30671          2.89035          4.09549\n"
     ]
    },
    {
     "data": {
      "text/plain": [
       "'\\nprint(\\'\\nTexttable Table:\\')\\nprint(table.draw())\\n\\nprint(\\'\\nTabulate Latex:\\')\\nprint(tabulate(rows, headers=\\'firstrow\\', tablefmt=\\'latex\\'))\\n\\nprint(\\'\\nTexttable Latex:\\')\\nprint(latextable.draw_latex(table, caption=\"A comparison of rocket features.\"))\\n'"
      ]
     },
     "execution_count": 43,
     "metadata": {},
     "output_type": "execute_result"
    }
   ],
   "source": [
    "from tabulate import tabulate\n",
    "from texttable import Texttable\n",
    "import numpy as np\n",
    "\n",
    "import latextable\n",
    "\n",
    "f_lg = \"job_submission/lg_b_5_alhpa_0.5\"\n",
    "f_llg = \"job_submission/llg_b_5_alhpa_0.5\"\n",
    "\n",
    "lg = np.genfromtxt(f_lg,delimiter=',')\n",
    "llg = np.genfromtxt(f_llg,delimiter=',')\n",
    "\n",
    "row_labels =['Fault_639',\n",
    "'mouse_gene',\n",
    "'Serena',\n",
    "'bone010',\n",
    "'dielFilterV3real',\n",
    "'Flan_1565',\n",
    "'kron_g500-logn21',\n",
    "'hollywood-2011',\n",
    "'G500_21',\n",
    "'SSA21',\n",
    "'eu-2015.mtx']\n",
    "row_header = ['Problems','lg_weight','llg_weight']\n",
    "#lg_t = lg[:,-1]\n",
    "#llg_t = llg[:,-1]\n",
    "speedup = np.divide(lg_t,llg_t)\n",
    "\n",
    "\n",
    "rows = np.concatenate((lg[:,2],llg[:,2],lg[:,-1],llg[:,-1],speedup),axis = 0)\n",
    "rows = rows.reshape(11,5)\n",
    "print(rows.shape)\n",
    "\n",
    "table = Texttable()\n",
    "table.set_cols_align([\"c\"] * 5)\n",
    "table.set_deco(Texttable.HEADER | Texttable.VLINES)\n",
    "table.add_rows(rows)\n",
    "\n",
    "print('Tabulate Table:')\n",
    "print(tabulate(rows, headers='firstrow'))\n",
    "\n",
    "'''\n",
    "print('\\nTexttable Table:')\n",
    "print(table.draw())\n",
    "\n",
    "print('\\nTabulate Latex:')\n",
    "print(tabulate(rows, headers='firstrow', tablefmt='latex'))\n",
    "\n",
    "print('\\nTexttable Latex:')\n",
    "print(latextable.draw_latex(table, caption=\"A comparison of rocket features.\"))\n",
    "'''"
   ]
  },
  {
   "cell_type": "code",
   "execution_count": 6,
   "metadata": {},
   "outputs": [],
   "source": [
    "f_lg = \"job_submission/lg_b_5_alhpa_0.5\"\n",
    "f_llg = \"job_submission/llg_b_5_alhpa_0.5\"\n",
    "\n",
    "lg = np.genfromtxt(f_lg,delimiter=',')\n",
    "llg = np.genfromtxt(f_llg,delimiter=',')"
   ]
  },
  {
   "cell_type": "code",
   "execution_count": 25,
   "metadata": {},
   "outputs": [
    {
     "name": "stdout",
     "output_type": "stream",
     "text": [
      "[3.45827919 2.21933326 3.42790311 3.55362315 3.10621238 3.80576212\n",
      " 2.79353463 4.35422514 3.30671358 2.890346   4.09549172]\n"
     ]
    }
   ],
   "source": [
    "labels =['Fault_639',\n",
    "'mouse_gene',\n",
    "'Serena',\n",
    "'bone010',\n",
    "'dielFilterV3real',\n",
    "'Flan_1565',\n",
    "'kron_g500-logn21',\n",
    "'hollywood-2011',\n",
    "'G500_21',\n",
    "'SSA21',\n",
    "'eu-2015.mtx']\n",
    "lg_t = lg[:,-1]\n",
    "llg_t = llg[:,-1]\n",
    "speedup = np.divide(lg_t,llg_t)"
   ]
  },
  {
   "cell_type": "code",
   "execution_count": 28,
   "metadata": {
    "collapsed": true
   },
   "outputs": [],
   "source": [
    "x = np.arange(len(labels))  # the label locations\n",
    "width = 0.50  # the width of the bars"
   ]
  },
  {
   "cell_type": "code",
   "execution_count": 29,
   "metadata": {},
   "outputs": [
    {
     "data": {
      "image/png": "[encoded data removed]",
      "text/plain": [
       "<Figure size 432x288 with 1 Axes>"
      ]
     },
     "metadata": {},
     "output_type": "display_data"
    }
   ],
   "source": []
  }
 ],
 "metadata": {
  "kernelspec": {
   "display_name": "Python 3",
   "language": "python",
   "name": "python3"
  },
  "language_info": {
   "codemirror_mode": {
    "name": "ipython",
    "version": 3
   },
   "file_extension": ".py",
   "mimetype": "text/x-python",
   "name": "python",
   "nbconvert_exporter": "python",
   "pygments_lexer": "ipython3",
   "version": "3.6.4"
  }
 },
 "nbformat": 4,
 "nbformat_minor": 2
}
