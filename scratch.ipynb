{
 "cells": [
  {
   "cell_type": "code",
   "execution_count": 27,
   "metadata": {},
   "outputs": [
    {
     "ename": "TypeError",
     "evalue": "'method' object is not subscriptable",
     "output_type": "error",
     "traceback": [
      "\u001b[0;31m---------------------------------------------------------------------------\u001b[0m",
      "\u001b[0;31mTypeError\u001b[0m                                 Traceback (most recent call last)",
      "\u001b[0;32m<ipython-input-27-0e0c1dcf34c3>\u001b[0m in \u001b[0;36m<module>\u001b[0;34m()\u001b[0m\n\u001b[1;32m      9\u001b[0m \u001b[0mG\u001b[0m \u001b[0;34m=\u001b[0m \u001b[0mnx\u001b[0m\u001b[0;34m.\u001b[0m\u001b[0mGraph\u001b[0m\u001b[0;34m(\u001b[0m\u001b[0;34m)\u001b[0m\u001b[0;34m\u001b[0m\u001b[0m\n\u001b[1;32m     10\u001b[0m \u001b[0mG\u001b[0m\u001b[0;34m.\u001b[0m\u001b[0madd_edges_from\u001b[0m\u001b[0;34m(\u001b[0m\u001b[0medgelist\u001b[0m\u001b[0;34m)\u001b[0m\u001b[0;34m\u001b[0m\u001b[0m\n\u001b[0;32m---> 11\u001b[0;31m \u001b[0mG\u001b[0m\u001b[0;34m.\u001b[0m\u001b[0mnodes\u001b[0m\u001b[0;34m[\u001b[0m\u001b[0;36m1\u001b[0m\u001b[0;34m]\u001b[0m\u001b[0;34m[\u001b[0m\u001b[0;34m'key'\u001b[0m\u001b[0;34m]\u001b[0m\u001b[0;34m\u001b[0m\u001b[0m\n\u001b[0m",
      "\u001b[0;31mTypeError\u001b[0m: 'method' object is not subscriptable"
     ]
    }
   ],
   "source": [
    "#!pip install --user networkx --upgrade\n",
    "import networkx as nx\n",
    "from scipy.io import mmread\n",
    "from scipy.sparse import find\n",
    "\n",
    "a = mmread(\"/scratch/snyder/s/sferdou/SubmodData/social-network-data/socfb-CMU.mtx\")\n",
    "CSR = find(a)\n",
    "edgelist = list(zip(list(CSR[1]),list(CSR[0])))\n",
    "G = nx.Graph()\n",
    "G.add_edges_from(edgelist)"
   ]
  },
  {
   "cell_type": "code",
   "execution_count": 70,
   "metadata": {},
   "outputs": [
    {
     "name": "stdout",
     "output_type": "stream",
     "text": [
      "210\n",
      "True\n",
      "True\n",
      "True\n",
      "True\n",
      "[ True  True  True  True  True  True  True  True  True  True  True  True\n",
      "  True  True  True  True  True  True  True  True  True  True  True  True\n",
      "  True  True  True  True  True  True  True  True  True  True  True  True\n",
      "  True  True  True  True  True  True  True  True  True  True  True  True\n",
      "  True  True  True  True  True  True  True  True  True  True  True  True\n",
      "  True  True  True  True  True  True  True  True  True  True  True  True\n",
      "  True  True  True  True  True  True  True  True  True  True  True  True\n",
      "  True  True  True  True  True  True  True  True  True  True  True  True\n",
      "  True  True  True  True  True  True  True  True  True  True  True  True\n",
      "  True  True  True  True  True  True  True  True  True  True  True  True\n",
      "  True  True  True  True  True  True  True  True  True  True  True  True\n",
      "  True  True  True  True  True  True  True  True  True  True  True  True\n",
      "  True  True  True  True  True  True  True  True  True  True  True  True\n",
      "  True  True  True  True  True  True  True  True  True  True  True  True\n",
      "  True  True  True  True  True  True  True  True  True  True  True  True\n",
      "  True  True  True  True  True  True  True  True  True  True  True  True\n",
      "  True  True  True  True  True  True  True  True  True  True  True  True\n",
      "  True  True  True  True  True  True  True  True  True  True  True  True\n",
      "  True  True  True  True  True  True  True  True  True  True  True  True\n",
      "  True  True  True  True  True  True  True  True  True  True  True  True]\n",
      "True\n"
     ]
    }
   ],
   "source": [
    "#check whether the matching is correct\n",
    "import matplotlib.pyplot as plt\n",
    "import numpy as np\n",
    "f_point5 = \"results/c60_139650_240_alpha_0.5_match\"\n",
    "\n",
    "n = 139650\n",
    "p = 240\n",
    "\n",
    "b = int(n/p)\n",
    "rem =  np.mod(n,p)\n",
    "print(rem)\n",
    "\n",
    "bv = np.zeros(p)\n",
    "for i in range(p):\n",
    "    bv[i] = b\n",
    "j = 0\n",
    "for i in range(rem):\n",
    "    bv[j] = bv[j] + 1\n",
    "    j = j + 1\n",
    "\n",
    "\n",
    "\n",
    "data = np.genfromtxt(f_point5)\n",
    "data [:,1] = data[:,1] - n\n",
    "# check the matching cardinality It should be 139650\n",
    "print(data.shape[0] == n)\n",
    "\n",
    "#every node is uniqe in the left hand sie side and it is [0,139649]\n",
    "print(min(data[:,0])==0)\n",
    "print(max(data[:,0]) == n-1)\n",
    "d_temp = np.unique(data[:,0])\n",
    "print(d_temp.shape[0] == data.shape[0])\n",
    "\n",
    "#every node in the right side is within [0,239] and the cardinality depends on b\n",
    "d_temp,count_elem =  np.unique(data[:,1],return_counts=True)\n",
    "print(count_elem == bv)\n",
    "print(d_temp.shape[0] == p)\n",
    "\n",
    "\n"
   ]
  }
 ],
 "metadata": {
  "kernelspec": {
   "display_name": "Python [default]",
   "language": "python",
   "name": "python3"
  },
  "language_info": {
   "codemirror_mode": {
    "name": "ipython",
    "version": 3
   },
   "file_extension": ".py",
   "mimetype": "text/x-python",
   "name": "python",
   "nbconvert_exporter": "python",
   "pygments_lexer": "ipython3",
   "version": "3.6.4"
  }
 },
 "nbformat": 4,
 "nbformat_minor": 2
}
